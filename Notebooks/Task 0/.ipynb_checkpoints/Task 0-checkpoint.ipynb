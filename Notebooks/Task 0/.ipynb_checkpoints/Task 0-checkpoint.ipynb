{
 "cells": [
  {
   "cell_type": "code",
   "execution_count": 1,
   "id": "86c1b169-2400-4e5a-b356-dae5afdcf2ee",
   "metadata": {},
   "outputs": [
    {
     "data": {
      "text/markdown": [
       "\n",
       "### Question 1 \n",
       "\n",
       "Write a function named `countTrips`.\n",
       "It will take a pandas bike trips history dataframe as its input. The function should return an integer indicating the number of trips that are contained in the dataframe.\n",
       "\n",
       "**NOTE**: Each row corresponds to a \"trip\" (i.e., it has a single origin and a single destination).\n",
       "    "
      ],
      "text/plain": [
       "<IPython.core.display.Markdown object>"
      ]
     },
     "metadata": {},
     "output_type": "display_data"
    }
   ],
   "source": [
    "from IPython.display import Markdown, display\n",
    "\n",
    "def display_markdown():\n",
    "    # Define the markdown content as a string\n",
    "    markdown_content = \"\"\"\n",
    "### Question 1 \n",
    "\n",
    "Write a function named `countTrips`.\n",
    "It will take a pandas bike trips history dataframe as its input. The function should return an integer indicating the number of trips that are contained in the dataframe.\n",
    "\n",
    "**NOTE**: Each row corresponds to a \"trip\" (i.e., it has a single origin and a single destination).\n",
    "    \"\"\"\n",
    "    # Use the display function to render the markdown\n",
    "    display(Markdown(markdown_content))\n",
    "\n",
    "# Call the function to display markdown\n",
    "display_markdown()\n"
   ]
  },
  {
   "cell_type": "code",
   "execution_count": 5,
   "id": "f275e22b-d66b-4754-bf6e-7a0238f264cc",
   "metadata": {},
   "outputs": [
    {
     "name": "stdout",
     "output_type": "stream",
     "text": [
      "            ride_id  rideable_type               started_at  \\\n",
      "0  DC1CB984821DFFF7   classic_bike  2023-01-07 15:36:53.430   \n",
      "1  C00CA02971557F16   classic_bike  2023-01-04 19:23:01.234   \n",
      "2  C753AE5EBD8458F9   classic_bike  2023-01-20 09:22:19.894   \n",
      "3  E4415A543C1972A7   classic_bike  2023-01-24 10:38:01.135   \n",
      "4  BD52A87B215877C7  electric_bike  2023-01-13 10:17:38.192   \n",
      "\n",
      "                  ended_at       start_station_name start_station_id  \\\n",
      "0  2023-01-07 15:39:45.406     Vesey St & Church St          5216.06   \n",
      "1  2023-01-04 19:34:57.151  Lispenard St & Broadway          5391.06   \n",
      "2  2023-01-20 10:23:24.255  3 Ave & Schermerhorn St          4437.01   \n",
      "3  2023-01-24 10:41:40.749           E 5 St & Ave A          5626.06   \n",
      "4  2023-01-13 10:33:59.099         W 54 St & 11 Ave          6955.05   \n",
      "\n",
      "                end_station_name end_station_id  start_lat  start_lng  \\\n",
      "0       Albany St & Greenwich St        5145.02  40.712220 -74.010472   \n",
      "1            St Marks Pl & 1 Ave        5626.13  40.719392 -74.002472   \n",
      "2            State St & Smith St        4522.07  40.686832 -73.979677   \n",
      "3                 E 1 St & 1 Ave        5593.01  40.724790 -73.984301   \n",
      "4  Washington St & Gansevoort St        6039.06  40.768292 -73.992563   \n",
      "\n",
      "     end_lat    end_lng member_casual  \n",
      "0  40.709267 -74.013247        member  \n",
      "1  40.727791 -73.985649        member  \n",
      "2  40.689170 -73.988600        member  \n",
      "3  40.723356 -73.988650        member  \n",
      "4  40.739323 -74.008119        member  \n"
     ]
    }
   ],
   "source": [
    "\n",
    "import pandas as pd\n",
    "\n",
    "\n",
    "file_path = '/Users/kvrvaishnavi/Downloads/202301-citibike-tripdata_1.csv'\n",
    "bike_trips_df = pd.read_csv(file_path, low_memory=False)\n",
    "\n",
    "\n",
    "print(bike_trips_df.head())"
   ]
  },
  {
   "cell_type": "code",
   "execution_count": 25,
   "id": "08f41d4f-a02d-4b06-9bd1-2054e99add5e",
   "metadata": {},
   "outputs": [
    {
     "data": {
      "text/markdown": [
       "\n",
       "### Question 2\n",
       "\n",
       "Write a function named avgTripDuration that will return the average trip duration (in\n",
       "seconds) for a given pandas bike trips history dataframe.\n",
       "\n",
       "\n",
       "    "
      ],
      "text/plain": [
       "<IPython.core.display.Markdown object>"
      ]
     },
     "metadata": {},
     "output_type": "display_data"
    }
   ],
   "source": [
    "from IPython.display import Markdown, display\n",
    "\n",
    "def display_markdown():\n",
    "    # Define the markdown content as a string\n",
    "    markdown_content = \"\"\"\n",
    "### Question 2\n",
    "\n",
    "Write a function named avgTripDuration that will return the average trip duration (in\n",
    "seconds) for a given pandas bike trips history dataframe.\n",
    "\n",
    "\n",
    "    \"\"\"\n",
    "    # Use the display function to render the markdown\n",
    "    display(Markdown(markdown_content))\n",
    "\n",
    "# Call the function to display markdown\n",
    "display_markdown()"
   ]
  },
  {
   "cell_type": "code",
   "execution_count": 7,
   "id": "c68c79bf-619b-4d2b-ae42-acdacfe6c002",
   "metadata": {},
   "outputs": [
    {
     "name": "stdout",
     "output_type": "stream",
     "text": [
      "Average trip duration: 992.281977067 seconds\n"
     ]
    }
   ],
   "source": [
    "import pandas as pd\n",
    "\n",
    "def avgTripDuration(bike_trips_df):\n",
    "    \n",
    "    # Ensuring the 'started_at' and 'ended_at' columns are in datetime format\n",
    "    bike_trips_df['started_at'] = pd.to_datetime(bike_trips_df['started_at'])\n",
    "    bike_trips_df['ended_at'] = pd.to_datetime(bike_trips_df['ended_at'])\n",
    "    \n",
    "    # Calculate trip durations in seconds\n",
    "    bike_trips_df['trip_duration'] = (bike_trips_df['ended_at'] - bike_trips_df['started_at']).dt.total_seconds()\n",
    "    \n",
    "    # Return the average trip duration\n",
    "    return bike_trips_df['trip_duration'].mean()\n",
    "\n",
    "# Load the CSV file into a pandas DataFrame\n",
    "file_path = '/Users/kvrvaishnavi/Downloads/202301-citibike-tripdata_1.csv'\n",
    "bike_trips_df = pd.read_csv(file_path,  low_memory=False)\n",
    "\n",
    "# Calculate the average trip duration\n",
    "average_duration = avgTripDuration(bike_trips_df)\n",
    "print(f\"Average trip duration: {average_duration} seconds\")\n"
   ]
  },
  {
   "cell_type": "code",
   "execution_count": 27,
   "id": "af1fc0f9-2080-4b00-81dc-e3d885bf1d42",
   "metadata": {},
   "outputs": [
    {
     "data": {
      "text/markdown": [
       "\n",
       "### Question 3\n",
       "\n",
       "Write a function named maxTripDuration that will return the maximum trip duration (in\n",
       "seconds) for annual members who were born on or after a given (input) year.\n",
       "• This function will take two inputs, in this order:\n",
       "▪ A 4-digit integer year (e.g., 1999), and\n",
       "▪ A pandas bike trips history dataframe.\n",
       "\n",
       "\n",
       "\n",
       "\n",
       "    "
      ],
      "text/plain": [
       "<IPython.core.display.Markdown object>"
      ]
     },
     "metadata": {},
     "output_type": "display_data"
    }
   ],
   "source": [
    "from IPython.display import Markdown, display\n",
    "\n",
    "def display_markdown():\n",
    "    # Define the markdown content as a string\n",
    "    markdown_content = \"\"\"\n",
    "### Question 3\n",
    "\n",
    "Write a function named maxTripDuration that will return the maximum trip duration (in\n",
    "seconds) for annual members who were born on or after a given (input) year.\n",
    "• This function will take two inputs, in this order:\n",
    "▪ A 4-digit integer year (e.g., 1999), and\n",
    "▪ A pandas bike trips history dataframe.\n",
    "\n",
    "\n",
    "\n",
    "\n",
    "    \"\"\"\n",
    "    # Use the display function to render the markdown\n",
    "    display(Markdown(markdown_content))\n",
    "\n",
    "# Call the function to display markdown\n",
    "display_markdown()"
   ]
  },
  {
   "cell_type": "code",
   "execution_count": 9,
   "id": "306bc207-f2d9-4cc5-8d46-bd52468df924",
   "metadata": {},
   "outputs": [
    {
     "name": "stdout",
     "output_type": "stream",
     "text": [
      "Maximum trip duration for members born on or after 1990: None seconds\n"
     ]
    }
   ],
   "source": [
    "import pandas as pd\n",
    "\n",
    "def maxTripDuration(year, bike_trips_df):\n",
    "   \n",
    "    # Ensuring datetime columns are properly formatted\n",
    "    bike_trips_df['started_at'] = pd.to_datetime(bike_trips_df['started_at'])\n",
    "    bike_trips_df['ended_at'] = pd.to_datetime(bike_trips_df['ended_at'])\n",
    "    \n",
    "    # Calculate trip durations in seconds\n",
    "    bike_trips_df['trip_duration'] = (bike_trips_df['ended_at'] - bike_trips_df['started_at']).dt.total_seconds()\n",
    "    \n",
    "    # Filter for annual members and birth year on or after the given year\n",
    "    filtered_df = bike_trips_df[\n",
    "        (bike_trips_df['member_casual'] == 'member') & \n",
    "        (bike_trips_df['birth_year'] >= year)\n",
    "    ]\n",
    "    \n",
    "    # Return the maximum trip duration, or None if no matching trips\n",
    "    return filtered_df['trip_duration'].max() if not filtered_df.empty else None\n",
    "\n",
    "\n",
    "file_path = '/Users/kvrvaishnavi/Downloads/202301-citibike-tripdata_1.csv'\n",
    "bike_trips_df = pd.read_csv(file_path, low_memory=False)\n",
    "\n",
    "# Assuming the dataframe includes a 'birth_year' column\n",
    "bike_trips_df['birth_year'] = pd.to_numeric(bike_trips_df.get('birth_year', pd.Series()), errors='coerce')\n",
    "\n",
    "max_duration = maxTripDuration(1990, bike_trips_df)\n",
    "print(f\"Maximum trip duration for members born on or after 1990: {max_duration} seconds\")\n"
   ]
  },
  {
   "cell_type": "code",
   "execution_count": 29,
   "id": "c172c8d0-64a8-4f94-93ab-3178ddc65bf6",
   "metadata": {},
   "outputs": [
    {
     "data": {
      "text/markdown": [
       "\n",
       "### Question 4\n",
       "\n",
       "\n",
       "Write a function named countAllStations that will return the number of unique stations\n",
       "(across both start and end stations) in a given bike trips history dataframe.\n",
       "\n",
       "\n",
       "\n",
       "    "
      ],
      "text/plain": [
       "<IPython.core.display.Markdown object>"
      ]
     },
     "metadata": {},
     "output_type": "display_data"
    }
   ],
   "source": [
    "from IPython.display import Markdown, display\n",
    "\n",
    "def display_markdown():\n",
    "    # Define the markdown content as a string\n",
    "    markdown_content = \"\"\"\n",
    "### Question 4\n",
    "\n",
    "\n",
    "Write a function named countAllStations that will return the number of unique stations\n",
    "(across both start and end stations) in a given bike trips history dataframe.\n",
    "\n",
    "\n",
    "\n",
    "    \"\"\"\n",
    "    # Use the display function to render the markdown\n",
    "    display(Markdown(markdown_content))\n",
    "\n",
    "# Call the function to display markdown\n",
    "display_markdown()"
   ]
  },
  {
   "cell_type": "code",
   "execution_count": 11,
   "id": "d5bf801d-c98c-45cb-830b-c7dafa384715",
   "metadata": {},
   "outputs": [
    {
     "name": "stdout",
     "output_type": "stream",
     "text": [
      "Number of unique stations: 1751\n"
     ]
    }
   ],
   "source": [
    "import pandas as pd\n",
    "\n",
    "def countAllStations(bike_trips_df):\n",
    "    \n",
    "    # Combine start and end station names into a single series\n",
    "    all_stations = pd.concat([bike_trips_df['start_station_name'], bike_trips_df['end_station_name']])\n",
    "    \n",
    "    # Find the number of unique stations\n",
    "    unique_stations_count = all_stations.nunique()\n",
    "    \n",
    "    return unique_stations_count\n",
    "\n",
    "file_path = '/Users/kvrvaishnavi/Downloads/202301-citibike-tripdata_1.csv'\n",
    "bike_trips_df = pd.read_csv(file_path, low_memory=False)\n",
    "\n",
    "# Count the unique stations\n",
    "unique_stations = countAllStations(bike_trips_df)\n",
    "print(f\"Number of unique stations: {unique_stations}\")\n"
   ]
  },
  {
   "cell_type": "code",
   "execution_count": 35,
   "id": "888975dd-afab-46a0-9c72-1157ae6c1490",
   "metadata": {},
   "outputs": [
    {
     "data": {
      "text/markdown": [
       "\n",
       "### Question 5\n",
       "\n",
       "Write a function named avgTripsByDayOfWeek that will return a 7-\n",
       "element list containing the average number of trips taken on each day of the week. The\n",
       "first element of the list should represent the average number of trips taken on Sundays;\n",
       "the last (7th) element of the list should represent the average number of trips taken on\n",
       "Saturdays. The function will have one input: a given pandas bike trips history dataframe.\n",
       "\n",
       "\n",
       "\n",
       "\n",
       "    "
      ],
      "text/plain": [
       "<IPython.core.display.Markdown object>"
      ]
     },
     "metadata": {},
     "output_type": "display_data"
    }
   ],
   "source": [
    "from IPython.display import Markdown, display\n",
    "\n",
    "def display_markdown():\n",
    "    # Define the markdown content as a string\n",
    "    markdown_content = \"\"\"\n",
    "### Question 5\n",
    "\n",
    "Write a function named avgTripsByDayOfWeek that will return a 7-\n",
    "element list containing the average number of trips taken on each day of the week. The\n",
    "first element of the list should represent the average number of trips taken on Sundays;\n",
    "the last (7th) element of the list should represent the average number of trips taken on\n",
    "Saturdays. The function will have one input: a given pandas bike trips history dataframe.\n",
    "\n",
    "\n",
    "\n",
    "\n",
    "    \"\"\"\n",
    "    # Use the display function to render the markdown\n",
    "    display(Markdown(markdown_content))\n",
    "\n",
    "# Call the function to display markdown\n",
    "display_markdown()"
   ]
  },
  {
   "cell_type": "code",
   "execution_count": 13,
   "id": "8255d1d9-23b2-47c3-9406-8d1c39729842",
   "metadata": {},
   "outputs": [
    {
     "name": "stdout",
     "output_type": "stream",
     "text": [
      "Average trips by day of the week: [14113.09090909091, 15617.545454545454, 13127.363636363636, 11062.727272727272, 13331.181818181818, 11523.818181818182, 12133.363636363636]\n"
     ]
    }
   ],
   "source": [
    "import pandas as pd\n",
    "\n",
    "def avgTripsByDayOfWeek(bike_trips_df):\n",
    "    \n",
    "    # Ensuring 'started_at' is in datetime format\n",
    "    bike_trips_df['started_at'] = pd.to_datetime(bike_trips_df['started_at'])\n",
    "    \n",
    "    # Extract the day of the week (0=Sunday, 6=Saturday)\n",
    "    bike_trips_df['day_of_week'] = bike_trips_df['started_at'].dt.dayofweek\n",
    "    \n",
    "    # Count trips per day of the week\n",
    "    trips_by_day = bike_trips_df.groupby('day_of_week').size()\n",
    "    \n",
    "    # Normalize to averages for each day (handling cases where some days have no trips)\n",
    "    total_weeks = bike_trips_df['started_at'].dt.isocalendar().week.nunique()\n",
    "    avg_trips_by_day = [(trips_by_day.get(day, 0) / total_weeks) for day in range(7)]\n",
    "    \n",
    "    return avg_trips_by_day\n",
    "\n",
    "\n",
    "file_path = '/Users/kvrvaishnavi/Downloads/202301-citibike-tripdata_1.csv'\n",
    "bike_trips_df = pd.read_csv(file_path, low_memory=False)\n",
    "\n",
    "# Calculate the average trips by day of the week\n",
    "average_trips = avgTripsByDayOfWeek(bike_trips_df)\n",
    "print(f\"Average trips by day of the week: {average_trips}\")\n"
   ]
  },
  {
   "cell_type": "code",
   "execution_count": 37,
   "id": "584f9a02-d0e5-4973-a643-4a782232ac10",
   "metadata": {},
   "outputs": [
    {
     "data": {
      "text/markdown": [
       "\n",
       "### Question 6\n",
       "\n",
       "Write a function named topXdepartures that will find the x stations that have the most\n",
       "departures, sorted in descending order. If there are ties, include those as well. For\n",
       "example, your function may be asked to find the 10 stations with the most departure; if\n",
       "there is a 3-way tie for 10th place, then your function should return 12 stations. Your\n",
       "function should return a pandas dataframe containing three columns:\n",
       "• rank (where rank 1 has the highest number of departures. If two or more stations\n",
       "have the same number of departures, then those stations should have the same\n",
       "rank);\n",
       "• start station id; and\n",
       "• number of departures.\n",
       "This function will take two inputs, in this order:\n",
       "• An integer indicating the top x number of departures; and\n",
       "• A pandas bike trips history dataframe.\n",
       "\n",
       "\n",
       "\n",
       "\n",
       "\n",
       "\n",
       "    "
      ],
      "text/plain": [
       "<IPython.core.display.Markdown object>"
      ]
     },
     "metadata": {},
     "output_type": "display_data"
    }
   ],
   "source": [
    "from IPython.display import Markdown, display\n",
    "\n",
    "def display_markdown():\n",
    "    # Define the markdown content as a string\n",
    "    markdown_content = \"\"\"\n",
    "### Question 6\n",
    "\n",
    "Write a function named topXdepartures that will find the x stations that have the most\n",
    "departures, sorted in descending order. If there are ties, include those as well. For\n",
    "example, your function may be asked to find the 10 stations with the most departure; if\n",
    "there is a 3-way tie for 10th place, then your function should return 12 stations. Your\n",
    "function should return a pandas dataframe containing three columns:\n",
    "• rank (where rank 1 has the highest number of departures. If two or more stations\n",
    "have the same number of departures, then those stations should have the same\n",
    "rank);\n",
    "• start station id; and\n",
    "• number of departures.\n",
    "This function will take two inputs, in this order:\n",
    "• An integer indicating the top x number of departures; and\n",
    "• A pandas bike trips history dataframe.\n",
    "\n",
    "\n",
    "\n",
    "\n",
    "\n",
    "\n",
    "    \"\"\"\n",
    "    # Use the display function to render the markdown\n",
    "    display(Markdown(markdown_content))\n",
    "\n",
    "# Call the function to display markdown\n",
    "display_markdown()"
   ]
  },
  {
   "cell_type": "code",
   "execution_count": 15,
   "id": "942e8488-c00f-4959-8770-967a6f4e5634",
   "metadata": {},
   "outputs": [
    {
     "name": "stdout",
     "output_type": "stream",
     "text": [
      "   rank start_station_id  number_of_departures\n",
      "0     1          6140.05                  3873\n",
      "1     2          6364.07                  3825\n",
      "2     3          6822.09                  3823\n",
      "3     4          5905.14                  3462\n",
      "4     5          6602.03                  3436\n",
      "5     6          6331.01                  3360\n",
      "6     7          6432.11                  3144\n",
      "7     8          6948.10                  3120\n",
      "8     9          6450.12                  3069\n",
      "9    10          6173.08                  2955\n"
     ]
    }
   ],
   "source": [
    "import pandas as pd\n",
    "\n",
    "def topXdepartures(x, bike_trips_df):\n",
    "    \"\"\"\n",
    "    Finds the top x stations with the most departures, including ties.\n",
    "    \n",
    "    Parameters:\n",
    "        x (int): The number of top stations to return based on departures.\n",
    "        bike_trips_df (pd.DataFrame): The bike trips history dataframe.\n",
    "\n",
    "    Returns:\n",
    "        pd.DataFrame: A dataframe containing:\n",
    "                      - rank: Rank of the station based on departures\n",
    "                      - start_station_id: ID of the station\n",
    "                      - number_of_departures: Total departures from the station\n",
    "    \"\"\"\n",
    "    # Counting the number of departures per start station\n",
    "    departures = bike_trips_df.groupby('start_station_id').size().reset_index(name='number_of_departures')\n",
    "    \n",
    "    # Sort by number of departures in descending order\n",
    "    departures = departures.sort_values(by='number_of_departures', ascending=False)\n",
    "    \n",
    "    # Rank stations, with ties getting the same rank\n",
    "    departures['rank'] = departures['number_of_departures'].rank(method='dense', ascending=False).astype(int)\n",
    "    \n",
    "    # Filter the top x ranks\n",
    "    top_departures = departures[departures['rank'] <= x]\n",
    "    \n",
    "    # Sort by rank and start_station_id for readability\n",
    "    top_departures = top_departures.sort_values(by=['rank', 'start_station_id']).reset_index(drop=True)\n",
    "    \n",
    "    # Rearrange columns\n",
    "    return top_departures[['rank', 'start_station_id', 'number_of_departures']]\n",
    "\n",
    "\n",
    "file_path = '/Users/kvrvaishnavi/Downloads/202301-citibike-tripdata_1.csv'\n",
    "bike_trips_df = pd.read_csv(file_path, low_memory=False)\n",
    "\n",
    "# Get the top 10 stations with the most departures\n",
    "top_departures = topXdepartures(10, bike_trips_df)\n",
    "print(top_departures)\n"
   ]
  },
  {
   "cell_type": "code",
   "execution_count": null,
   "id": "dace8dac-7c25-48d6-9e76-374556688746",
   "metadata": {},
   "outputs": [],
   "source": []
  }
 ],
 "metadata": {
  "kernelspec": {
   "display_name": "Python 3 (ipykernel)",
   "language": "python",
   "name": "python3"
  },
  "language_info": {
   "codemirror_mode": {
    "name": "ipython",
    "version": 3
   },
   "file_extension": ".py",
   "mimetype": "text/x-python",
   "name": "python",
   "nbconvert_exporter": "python",
   "pygments_lexer": "ipython3",
   "version": "3.11.5"
  }
 },
 "nbformat": 4,
 "nbformat_minor": 5
}
