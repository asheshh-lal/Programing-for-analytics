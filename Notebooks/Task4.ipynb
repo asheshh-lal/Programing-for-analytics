{
  "nbformat": 4,
  "nbformat_minor": 0,
  "metadata": {
    "colab": {
      "provenance": []
    },
    "kernelspec": {
      "name": "python3",
      "display_name": "Python 3"
    },
    "language_info": {
      "name": "python"
    }
  },
  "cells": [
    {
      "cell_type": "code",
      "source": [
        "import requests\n",
        "import numpy as np\n",
        "import random\n",
        "\n",
        "# Fetch JSON data from URL\n",
        "def fetch_json(url):\n",
        "    response = requests.get(url)\n",
        "    response.raise_for_status()\n",
        "    return response.json()\n",
        "\n",
        "# Calculate the Haversine distance between two points\n",
        "def haversine(lat1, lon1, lat2, lon2):\n",
        "    lat1, lon1, lat2, lon2 = map(np.radians, [lat1, lon1, lat2, lon2])\n",
        "    dlat = lat2 - lat1\n",
        "    dlon = lon2 - lon1\n",
        "    a = np.sin(dlat/2)**2 + np.cos(lat1) * np.cos(lat2) * np.sin(dlon/2)**2\n",
        "    c = 2 * np.arcsin(np.sqrt(a))\n",
        "    r = 6371  # Radius of Earth in kilometers\n",
        "    return c * r\n",
        "\n",
        "# Create a distance matrix from station coordinates\n",
        "def create_distance_matrix(stations):\n",
        "    n_stations = len(stations)\n",
        "    matrix = np.zeros((n_stations, n_stations))\n",
        "    for i in range(n_stations):\n",
        "        for j in range(i + 1, n_stations):\n",
        "            distance = haversine(stations[i]['lat'], stations[i]['lon'], stations[j]['lat'], stations[j]['lon'])\n",
        "            matrix[i][j] = matrix[j][i] = distance\n",
        "    return matrix\n",
        "\n",
        "# Simulated Annealing for solving TSP\n",
        "def simulated_annealing(dist_matrix, start_idx=0, temp=10000, cooling_rate=0.003, stopping_temp=1):\n",
        "    n = len(dist_matrix)\n",
        "    path = list(range(1, n))\n",
        "    random.shuffle(path)\n",
        "    path.insert(0, start_idx)\n",
        "    path.append(start_idx)\n",
        "    best_path = path[:]\n",
        "    best_cost = path_cost(dist_matrix, path)\n",
        "\n",
        "    while temp > stopping_temp:\n",
        "        # Only shuffle between the second element and the second-to-last element\n",
        "        a, b = random.sample(range(1, n), 2)\n",
        "        path[a], path[b] = path[b], path[a]\n",
        "        new_cost = path_cost(dist_matrix, path)\n",
        "        if new_cost < best_cost or random.random() < np.exp((best_cost - new_cost) / temp):\n",
        "            if new_cost < best_cost:\n",
        "                best_path = path[:]\n",
        "                best_cost = new_cost\n",
        "        temp *= (1 - cooling_rate)\n",
        "\n",
        "    return best_path, best_cost\n",
        "\n",
        "# Calculate total path cost\n",
        "def path_cost(matrix, path):\n",
        "    return sum(matrix[path[i]][path[i+1]] for i in range(len(path) - 1))\n",
        "\n",
        "# Main function\n",
        "def main():\n",
        "    url = \"https://gbfs.lyft.com/gbfs/2.3/bkn/es/station_information.json\"\n",
        "    try:\n",
        "        data = fetch_json(url)\n",
        "        stations = data['data']['stations'][:20]\n",
        "        print(\"fetching first 20 stations from the data\\n\")\n",
        "        for i in stations:\n",
        "          print(f\"station {stations.index(i)} - name :{i['name']} co-ordinates :{i['lon']},{i['lat']}\")\n",
        "        distance_matrix = create_distance_matrix(stations)\n",
        "        best_path, best_path_distance = simulated_annealing(distance_matrix)\n",
        "        print(\"\\nThe best Optimal route path:\")\n",
        "        for idx in best_path:\n",
        "            print(f\"{stations[idx]['name']} -> \", end=\"\")\n",
        "        print(\"\\b\\b \")\n",
        "        print(\"\\nTotal distance covered: {:.2f} km\".format(best_path_distance))\n",
        "    except requests.RequestException as e:\n",
        "        print(\"HTTP error:\", e)\n",
        "    except json.JSONDecodeError:\n",
        "        print(\"Error decoding JSON\")\n",
        "    except KeyError:\n",
        "        print(\"Invalid JSON format\")\n",
        "\n",
        "if __name__ == \"__main__\":\n",
        "    main()\n"
      ],
      "metadata": {
        "colab": {
          "base_uri": "https://localhost:8080/"
        },
        "id": "fLDUVDgqlQT1",
        "outputId": "a929df16-18ca-4e5a-bce2-b5b2bfd74908"
      },
      "execution_count": 26,
      "outputs": [
        {
          "output_type": "stream",
          "name": "stdout",
          "text": [
            "fetching first 20 stations from the data\n",
            "\n",
            "station 0 - name :6 Ave & 60 St co-ordinates :-74.013821,40.638196\n",
            "station 1 - name :52 St & 6 Ave co-ordinates :-74.009441,40.642703\n",
            "station 2 - name :Central Park West & W 72 St co-ordinates :-73.9762057363987,40.77579376683666\n",
            "station 3 - name :55 St & 5 Ave co-ordinates :-74.013318,40.642408\n",
            "station 4 - name :43 St & Skillman Ave co-ordinates :-73.9208248257637,40.74692675687384\n",
            "station 5 - name :Rutland Rd & E 45 St co-ordinates :-73.93618,40.66034\n",
            "station 6 - name :Warren St & W Broadway co-ordinates :-74.00910627,40.71473993\n",
            "station 7 - name :Nassau Ave & Newell St co-ordinates :-73.94752621650696,40.724812564400175\n",
            "station 8 - name :St Nicholas Ave & W 137 St co-ordinates :-73.947568,40.818477\n",
            "station 9 - name :Broadway & W 192 St co-ordinates :-73.932173,40.857994\n",
            "station 10 - name :E 18 St & Church Ave co-ordinates :-73.96316,40.64958\n",
            "station 11 - name :Martense Ave & 108 St co-ordinates :-73.85418,40.74214\n",
            "station 12 - name :W 54 St & 9 Ave co-ordinates :-73.98737,40.76604\n",
            "station 13 - name :Carlton Ave & Greene Ave co-ordinates :-73.971468,40.685957\n",
            "station 14 - name :St Ann's Ave & Bruckner Blvd co-ordinates :-73.919763,40.803399\n",
            "station 15 - name :Mount Eden Pkwy & Eastburn Ave co-ordinates :-73.908544,40.842675\n",
            "station 16 - name :Parkside Ave & Flatbush Ave co-ordinates :-73.95968,40.65563\n",
            "station 17 - name :Nassau Ave & Russell St co-ordinates :-73.94434,40.72557\n",
            "station 18 - name :Broadway & Moylan Pl co-ordinates :-73.9590255,40.8143256\n",
            "station 19 - name :Franklin Ave & Myrtle Ave co-ordinates :-73.95801365375519,40.694546087246025\n",
            "\n",
            "The best Optimal route path:\n",
            "6 Ave & 60 St -> 55 St & 5 Ave -> St Ann's Ave & Bruckner Blvd -> Martense Ave & 108 St -> Franklin Ave & Myrtle Ave -> Warren St & W Broadway -> Carlton Ave & Greene Ave -> 43 St & Skillman Ave -> Nassau Ave & Newell St -> Nassau Ave & Russell St -> W 54 St & 9 Ave -> Central Park West & W 72 St -> Broadway & Moylan Pl -> St Nicholas Ave & W 137 St -> Broadway & W 192 St -> Mount Eden Pkwy & Eastburn Ave -> 52 St & 6 Ave -> Parkside Ave & Flatbush Ave -> Rutland Rd & E 45 St -> E 18 St & Church Ave -> 6 Ave & 60 St -> \b\b \n",
            "\n",
            "Total distance covered: 117.34 km\n"
          ]
        }
      ]
    },
    {
      "cell_type": "code",
      "source": [],
      "metadata": {
        "id": "-JEiYYaIo1eE"
      },
      "execution_count": null,
      "outputs": []
    }
  ]
}