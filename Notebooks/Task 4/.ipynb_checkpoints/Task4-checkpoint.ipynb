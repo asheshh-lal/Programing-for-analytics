{
 "cells": [
  {
   "cell_type": "markdown",
   "metadata": {},
   "source": [
    "### Optimization for Bike Rebalancing (15 points)\n",
    "Bike rebalancing refers to the process of redistributing bicycles across the bike-sharing\n",
    "system to ensure an even availability of bikes and docking stations throughout a city. This is\n",
    "crucial for maintaining user convenience and satisfaction, as it addresses imbalances\n",
    "caused by high demand in certain areas and low usage in others.\n",
    "The rebalancing process typically involves monitoring bike usage data in real-time,\n",
    "identifying stations with high demand that are running low on bikes, and those with excess\n",
    "bikes that need to be moved. Operators may use trucks or electric vehicles to transport\n",
    "bikes from oversupplied stations to those in need, optimizing the system's overall\n",
    "efficiency.\n",
    "Question: Pick 20 stations of Citibike, a delivery person needs to start from Station A (any\n",
    "station you pick) and visit all other stations exactly once before returning to Station A. What\n",
    "is the shortest possible route the delivery person can take to complete this journey,\n",
    "minimizing the total distance traveled? Use Python to solve this Traveling Salesman\n",
    "Problem (TSP). Note: The distance between the stations can be calculated based on the\n",
    "longitude and latitude given."
   ]
  },
  {
   "cell_type": "code",
   "execution_count": 1,
   "metadata": {
    "colab": {
     "base_uri": "https://localhost:8080/"
    },
    "id": "fLDUVDgqlQT1",
    "outputId": "a929df16-18ca-4e5a-bce2-b5b2bfd74908"
   },
   "outputs": [
    {
     "name": "stdout",
     "output_type": "stream",
     "text": [
      "fetching first 20 stations from the data\n",
      "\n",
      "station 0 - name :6 Ave & 60 St co-ordinates :-74.013821,40.638196\n",
      "station 1 - name :52 St & 6 Ave co-ordinates :-74.009441,40.642703\n",
      "station 2 - name :Central Park West & W 72 St co-ordinates :-73.9762057363987,40.77579376683666\n",
      "station 3 - name :55 St & 5 Ave co-ordinates :-74.013318,40.642408\n",
      "station 4 - name :Carroll St & 6 Ave co-ordinates :-73.9787282,40.6740886\n",
      "station 5 - name :Jackson Mill Rd & 93 St co-ordinates :-73.87535,40.75874\n",
      "station 6 - name :10 St & 7 Ave co-ordinates :-73.98199886,40.6662078\n",
      "station 7 - name :E 5 St & Ave C co-ordinates :-73.97995466,40.72299208\n",
      "station 8 - name :Morris Ave & E 142 St co-ordinates :-73.924963,40.814469\n",
      "station 9 - name :Morris Ave & E 163 St co-ordinates :-73.91765579597632,40.827230499624726\n",
      "station 10 - name :E 45 St & 3 Ave co-ordinates :-73.97282625,40.75255434\n",
      "station 11 - name :Suydam St & St Nicholas Ave co-ordinates :-73.91945,40.70636\n",
      "station 12 - name :Washington Ave & Park Pl co-ordinates :-73.963308,40.675832\n",
      "station 13 - name :34 Ave & 13 St co-ordinates :-73.9364848,40.7638753\n",
      "station 14 - name :Home St & Westchester Ave co-ordinates :-73.886659,40.827629\n",
      "station 15 - name :43 St & Skillman Ave co-ordinates :-73.9208248257637,40.74692675687384\n",
      "station 16 - name :Park Ave & E 162 St co-ordinates :-73.915585,40.825716\n",
      "station 17 - name :Madison St & Seneca Ave co-ordinates :-73.90625,40.70183\n",
      "station 18 - name :Madison St & Evergreen Ave co-ordinates :-73.91693,40.69122\n",
      "station 19 - name :Broadway & Berry St co-ordinates :-73.96530389785767,40.71036129922581\n",
      "\n",
      "The best Optimal route path:\n",
      "6 Ave & 60 St -> Central Park West & W 72 St -> Park Ave & E 162 St -> Morris Ave & E 142 St -> Morris Ave & E 163 St -> 43 St & Skillman Ave -> Madison St & Seneca Ave -> Carroll St & 6 Ave -> 52 St & 6 Ave -> 55 St & 5 Ave -> Suydam St & St Nicholas Ave -> Washington Ave & Park Pl -> 10 St & 7 Ave -> E 45 St & 3 Ave -> 34 Ave & 13 St -> E 5 St & Ave C -> Broadway & Berry St -> Home St & Westchester Ave -> Jackson Mill Rd & 93 St -> Madison St & Evergreen Ave -> 6 Ave & 60 St -> \b\b \n",
      "\n",
      "Total distance covered: 130.73 km\n"
     ]
    }
   ],
   "source": [
    "import requests\n",
    "import numpy as np\n",
    "import random\n",
    "\n",
    "# Fetch JSON data from URL\n",
    "def fetch_json(url):\n",
    "    response = requests.get(url)\n",
    "    response.raise_for_status()\n",
    "    return response.json()\n",
    "\n",
    "# Calculate the Haversine distance between two points\n",
    "def haversine(lat1, lon1, lat2, lon2):\n",
    "    lat1, lon1, lat2, lon2 = map(np.radians, [lat1, lon1, lat2, lon2])\n",
    "    dlat = lat2 - lat1\n",
    "    dlon = lon2 - lon1\n",
    "    a = np.sin(dlat/2)**2 + np.cos(lat1) * np.cos(lat2) * np.sin(dlon/2)**2\n",
    "    c = 2 * np.arcsin(np.sqrt(a))\n",
    "    r = 6371  # Radius of Earth in kilometers\n",
    "    return c * r\n",
    "\n",
    "# Create a distance matrix from station coordinates\n",
    "def create_distance_matrix(stations):\n",
    "    n_stations = len(stations)\n",
    "    matrix = np.zeros((n_stations, n_stations))\n",
    "    for i in range(n_stations):\n",
    "        for j in range(i + 1, n_stations):\n",
    "            distance = haversine(stations[i]['lat'], stations[i]['lon'], stations[j]['lat'], stations[j]['lon'])\n",
    "            matrix[i][j] = matrix[j][i] = distance\n",
    "    return matrix\n",
    "\n",
    "# Simulated Annealing for solving TSP\n",
    "def simulated_annealing(dist_matrix, start_idx=0, temp=10000, cooling_rate=0.003, stopping_temp=1):\n",
    "    n = len(dist_matrix)\n",
    "    path = list(range(1, n))\n",
    "    random.shuffle(path)\n",
    "    path.insert(0, start_idx)\n",
    "    path.append(start_idx)\n",
    "    best_path = path[:]\n",
    "    best_cost = path_cost(dist_matrix, path)\n",
    "\n",
    "    while temp > stopping_temp:\n",
    "        # Only shuffle between the second element and the second-to-last element\n",
    "        a, b = random.sample(range(1, n), 2)\n",
    "        path[a], path[b] = path[b], path[a]\n",
    "        new_cost = path_cost(dist_matrix, path)\n",
    "        if new_cost < best_cost or random.random() < np.exp((best_cost - new_cost) / temp):\n",
    "            if new_cost < best_cost:\n",
    "                best_path = path[:]\n",
    "                best_cost = new_cost\n",
    "        temp *= (1 - cooling_rate)\n",
    "\n",
    "    return best_path, best_cost\n",
    "\n",
    "# Calculate total path cost\n",
    "def path_cost(matrix, path):\n",
    "    return sum(matrix[path[i]][path[i+1]] for i in range(len(path) - 1))\n",
    "\n",
    "# Main function\n",
    "def main():\n",
    "    url = \"https://gbfs.lyft.com/gbfs/2.3/bkn/es/station_information.json\"\n",
    "    try:\n",
    "        data = fetch_json(url)\n",
    "        stations = data['data']['stations'][:20]\n",
    "        print(\"fetching first 20 stations from the data\\n\")\n",
    "        for i in stations:\n",
    "          print(f\"station {stations.index(i)} - name :{i['name']} co-ordinates :{i['lon']},{i['lat']}\")\n",
    "        distance_matrix = create_distance_matrix(stations)\n",
    "        best_path, best_path_distance = simulated_annealing(distance_matrix)\n",
    "        print(\"\\nThe best Optimal route path:\")\n",
    "        for idx in best_path:\n",
    "            print(f\"{stations[idx]['name']} -> \", end=\"\")\n",
    "        print(\"\\b\\b \")\n",
    "        print(\"\\nTotal distance covered: {:.2f} km\".format(best_path_distance))\n",
    "    except requests.RequestException as e:\n",
    "        print(\"HTTP error:\", e)\n",
    "    except json.JSONDecodeError:\n",
    "        print(\"Error decoding JSON\")\n",
    "    except KeyError:\n",
    "        print(\"Invalid JSON format\")\n",
    "\n",
    "if __name__ == \"__main__\":\n",
    "    main()\n"
   ]
  },
  {
   "cell_type": "code",
   "execution_count": null,
   "metadata": {
    "id": "-JEiYYaIo1eE"
   },
   "outputs": [],
   "source": []
  }
 ],
 "metadata": {
  "colab": {
   "provenance": []
  },
  "kernelspec": {
   "display_name": "Python 3 (ipykernel)",
   "language": "python",
   "name": "python3"
  },
  "language_info": {
   "codemirror_mode": {
    "name": "ipython",
    "version": 3
   },
   "file_extension": ".py",
   "mimetype": "text/x-python",
   "name": "python",
   "nbconvert_exporter": "python",
   "pygments_lexer": "ipython3",
   "version": "3.11.5"
  }
 },
 "nbformat": 4,
 "nbformat_minor": 1
}
